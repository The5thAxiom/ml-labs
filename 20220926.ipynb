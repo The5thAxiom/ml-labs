{
 "cells": [
  {
   "cell_type": "markdown",
   "metadata": {},
   "source": [
    "# 20220926 | K-Means Clustering on the CICIDS Dataset"
   ]
  },
  {
   "cell_type": "code",
   "execution_count": 2,
   "metadata": {},
   "outputs": [],
   "source": [
    "import numpy as np\n",
    "import pandas as pd\n",
    "\n",
    "from sklearn.preprocessing import MinMaxScaler, Normalizer\n",
    "from sklearn.model_selection import train_test_split\n",
    "from sklearn.cluster import KMeans"
   ]
  },
  {
   "cell_type": "markdown",
   "metadata": {},
   "source": [
    "\n",
    "## Preparing the Dataset"
   ]
  },
  {
   "cell_type": "code",
   "execution_count": 3,
   "metadata": {},
   "outputs": [],
   "source": [
    "# df_train = pd.read_csv('../train_MachineLearningCVE.csv')\n",
    "df_test = pd.read_csv('../test_MachineLearningCVE.csv')\n",
    "\n",
    "# df = pd.concat([df_train, df_test], axis=0, copy=True)\n",
    "df = df_test\n",
    "\n",
    "def preprocessing(df):\n",
    "    # Shuffle the dataset\n",
    "    df = df.sample(frac=1)\n",
    "\n",
    "    # Split features and labels\n",
    "    x = df.iloc[:, df.columns != 'Label']\n",
    "    y = df[['Label']].to_numpy()\n",
    "\n",
    "    # Normalize\n",
    "    x = Normalizer().fit_transform(x)\n",
    "\n",
    "    # Scale the features between 0 ~ 1\n",
    "    x = MinMaxScaler().fit_transform(x)\n",
    "\n",
    "    return x,y\n",
    "\n",
    "X, Y = preprocessing(df)"
   ]
  },
  {
   "cell_type": "code",
   "execution_count": 4,
   "metadata": {},
   "outputs": [
    {
     "name": "stdout",
     "output_type": "stream",
     "text": [
      "(566149, 78)\n",
      "(566149, 1)\n",
      "15\n"
     ]
    },
    {
     "data": {
      "text/plain": [
       "Label\n",
       "0        454620\n",
       "4         46215\n",
       "10        31786\n",
       "2         25606\n",
       "3          2059\n",
       "7          1588\n",
       "11         1179\n",
       "6          1159\n",
       "5          1100\n",
       "1           393\n",
       "12          301\n",
       "14          130\n",
       "9             7\n",
       "13            4\n",
       "8             2\n",
       "dtype: int64"
      ]
     },
     "execution_count": 4,
     "metadata": {},
     "output_type": "execute_result"
    }
   ],
   "source": [
    "print(X.shape)\n",
    "print(Y.shape)\n",
    "\n",
    "print(len(df[['Label']].value_counts().to_list()))\n",
    "df[['Label']].value_counts()"
   ]
  },
  {
   "cell_type": "markdown",
   "metadata": {},
   "source": [
    "## Applying K-Means Clustering"
   ]
  },
  {
   "cell_type": "code",
   "execution_count": 6,
   "metadata": {},
   "outputs": [
    {
     "name": "stdout",
     "output_type": "stream",
     "text": [
      "1: 854003.0099095481\n",
      "2: 629525.2165171935\n",
      "3: 433910.66983554343\n",
      "4: 384314.9417037079\n",
      "5: 300009.2008198553\n",
      "6: 239298.59943066866\n",
      "7: 209641.39041454764\n",
      "8: 166169.05969263957\n",
      "9: 162678.83972384105\n"
     ]
    }
   ],
   "source": [
    "max_k = 10\n",
    "distortions = []\n",
    "for i in range(1, max_k):\n",
    "    km = KMeans(n_clusters=i, n_init=1, max_iter=100)\n",
    "    km.fit(X)\n",
    "    distortions.append(km.inertia_)\n",
    "    print(f\"{i}: {distortions[i-1]}\")"
   ]
  },
  {
   "cell_type": "code",
   "execution_count": 7,
   "metadata": {},
   "outputs": [
    {
     "data": {
      "image/png": "[encoded data removed]",
      "text/plain": [
       "<Figure size 432x288 with 1 Axes>"
      ]
     },
     "metadata": {
      "needs_background": "light"
     },
     "output_type": "display_data"
    }
   ],
   "source": [
    "import matplotlib.pyplot as plt\n",
    "\n",
    "plt.plot(range(1, max_k), distortions, marker='o')\n",
    "plt.xlabel('Number of clusters')\n",
    "plt.ylabel('Distortion')\n",
    "plt.tight_layout()\n",
    "plt.show()"
   ]
  },
  {
   "cell_type": "markdown",
   "metadata": {},
   "source": [
    "## Interpreting the clusters\n",
    "- As we can see from the graph, the ideal number of clusters is 3 as it is the elbow point."
   ]
  }
 ],
 "metadata": {
  "kernelspec": {
   "display_name": "Python 3.10.6 64-bit",
   "language": "python",
   "name": "python3"
  },
  "language_info": {
   "codemirror_mode": {
    "name": "ipython",
    "version": 3
   },
   "file_extension": ".py",
   "mimetype": "text/x-python",
   "name": "python",
   "nbconvert_exporter": "python",
   "pygments_lexer": "ipython3",
   "version": "3.10.6"
  },
  "orig_nbformat": 4,
  "vscode": {
   "interpreter": {
    "hash": "e7370f93d1d0cde622a1f8e1c04877d8463912d04d973331ad4851f04de6915a"
   }
  }
 },
 "nbformat": 4,
 "nbformat_minor": 2
}
