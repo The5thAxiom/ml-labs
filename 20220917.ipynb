{
 "cells": [
  {
   "cell_type": "markdown",
   "metadata": {},
   "source": [
    "# 20220917 | Classification Using SkLearn"
   ]
  },
  {
   "cell_type": "code",
   "execution_count": 1,
   "metadata": {},
   "outputs": [],
   "source": [
    "import numpy as np\n",
    "import pandas as pd\n",
    "\n",
    "from sklearn.preprocessing import MinMaxScaler\n",
    "from sklearn.model_selection import train_test_split"
   ]
  },
  {
   "cell_type": "markdown",
   "metadata": {},
   "source": [
    "## Dataset"
   ]
  },
  {
   "cell_type": "code",
   "execution_count": 2,
   "metadata": {},
   "outputs": [],
   "source": [
    "# df_train = pd.read_csv('../train_MachineLearningCVE.csv')\n",
    "df_test = pd.read_csv('../test_MachineLearningCVE.csv')\n",
    "\n",
    "# df = pd.concat([df_train, df_test], axis=0, copy=True)\n",
    "df = df_test\n",
    "\n",
    "def preprocessing(df):\n",
    "    # Shuffle the dataset\n",
    "    df = df.sample(frac=1)\n",
    "\n",
    "    # Split features and labels\n",
    "    x = df.iloc[:, df.columns != 'Label']\n",
    "    y = df[['Label']].to_numpy()\n",
    "\n",
    "    # Scale the features between 0 ~ 1\n",
    "    scaler = MinMaxScaler()\n",
    "    x = scaler.fit_transform(x)\n",
    "\n",
    "    return x, y\n",
    "\n",
    "x, y = preprocessing(df)\n",
    "\n",
    "X_train,X_test,Y_train,Y_test = train_test_split(x, y, train_size=0.7, random_state=42)"
   ]
  },
  {
   "cell_type": "code",
   "execution_count": 3,
   "metadata": {},
   "outputs": [
    {
     "name": "stdout",
     "output_type": "stream",
     "text": [
      "(396304, 78)\n",
      "(396304, 1)\n",
      "(169845, 78)\n",
      "(169845, 1)\n"
     ]
    }
   ],
   "source": [
    "print(X_train.shape)\n",
    "print(Y_train.shape)\n",
    "\n",
    "print(X_test.shape)\n",
    "print(Y_test.shape)"
   ]
  },
  {
   "cell_type": "markdown",
   "metadata": {},
   "source": [
    "## Logistic Regression"
   ]
  },
  {
   "cell_type": "code",
   "execution_count": 4,
   "metadata": {},
   "outputs": [
    {
     "name": "stderr",
     "output_type": "stream",
     "text": [
      "/home/sam/.local/lib/python3.10/site-packages/sklearn/linear_model/_logistic.py:444: ConvergenceWarning: lbfgs failed to converge (status=1):\n",
      "STOP: TOTAL NO. of ITERATIONS REACHED LIMIT.\n",
      "\n",
      "Increase the number of iterations (max_iter) or scale the data as shown in:\n",
      "    https://scikit-learn.org/stable/modules/preprocessing.html\n",
      "Please also refer to the documentation for alternative solver options:\n",
      "    https://scikit-learn.org/stable/modules/linear_model.html#logistic-regression\n",
      "  n_iter_i = _check_optimize_result(\n"
     ]
    },
    {
     "data": {
      "text/html": [
       "<style>#sk-container-id-1 {color: black;background-color: white;}#sk-container-id-1 pre{padding: 0;}#sk-container-id-1 div.sk-toggleable {background-color: white;}#sk-container-id-1 label.sk-toggleable__label {cursor: pointer;display: block;width: 100%;margin-bottom: 0;padding: 0.3em;box-sizing: border-box;text-align: center;}#sk-container-id-1 label.sk-toggleable__label-arrow:before {content: \"▸\";float: left;margin-right: 0.25em;color: #696969;}#sk-container-id-1 label.sk-toggleable__label-arrow:hover:before {color: black;}#sk-container-id-1 div.sk-estimator:hover label.sk-toggleable__label-arrow:before {color: black;}#sk-container-id-1 div.sk-toggleable__content {max-height: 0;max-width: 0;overflow: hidden;text-align: left;background-color: #f0f8ff;}#sk-container-id-1 div.sk-toggleable__content pre {margin: 0.2em;color: black;border-radius: 0.25em;background-color: #f0f8ff;}#sk-container-id-1 input.sk-toggleable__control:checked~div.sk-toggleable__content {max-height: 200px;max-width: 100%;overflow: auto;}#sk-container-id-1 input.sk-toggleable__control:checked~label.sk-toggleable__label-arrow:before {content: \"▾\";}#sk-container-id-1 div.sk-estimator input.sk-toggleable__control:checked~label.sk-toggleable__label {background-color: #d4ebff;}#sk-container-id-1 div.sk-label input.sk-toggleable__control:checked~label.sk-toggleable__label {background-color: #d4ebff;}#sk-container-id-1 input.sk-hidden--visually {border: 0;clip: rect(1px 1px 1px 1px);clip: rect(1px, 1px, 1px, 1px);height: 1px;margin: -1px;overflow: hidden;padding: 0;position: absolute;width: 1px;}#sk-container-id-1 div.sk-estimator {font-family: monospace;background-color: #f0f8ff;border: 1px dotted black;border-radius: 0.25em;box-sizing: border-box;margin-bottom: 0.5em;}#sk-container-id-1 div.sk-estimator:hover {background-color: #d4ebff;}#sk-container-id-1 div.sk-parallel-item::after {content: \"\";width: 100%;border-bottom: 1px solid gray;flex-grow: 1;}#sk-container-id-1 div.sk-label:hover label.sk-toggleable__label {background-color: #d4ebff;}#sk-container-id-1 div.sk-serial::before {content: \"\";position: absolute;border-left: 1px solid gray;box-sizing: border-box;top: 0;bottom: 0;left: 50%;z-index: 0;}#sk-container-id-1 div.sk-serial {display: flex;flex-direction: column;align-items: center;background-color: white;padding-right: 0.2em;padding-left: 0.2em;position: relative;}#sk-container-id-1 div.sk-item {position: relative;z-index: 1;}#sk-container-id-1 div.sk-parallel {display: flex;align-items: stretch;justify-content: center;background-color: white;position: relative;}#sk-container-id-1 div.sk-item::before, #sk-container-id-1 div.sk-parallel-item::before {content: \"\";position: absolute;border-left: 1px solid gray;box-sizing: border-box;top: 0;bottom: 0;left: 50%;z-index: -1;}#sk-container-id-1 div.sk-parallel-item {display: flex;flex-direction: column;z-index: 1;position: relative;background-color: white;}#sk-container-id-1 div.sk-parallel-item:first-child::after {align-self: flex-end;width: 50%;}#sk-container-id-1 div.sk-parallel-item:last-child::after {align-self: flex-start;width: 50%;}#sk-container-id-1 div.sk-parallel-item:only-child::after {width: 0;}#sk-container-id-1 div.sk-dashed-wrapped {border: 1px dashed gray;margin: 0 0.4em 0.5em 0.4em;box-sizing: border-box;padding-bottom: 0.4em;background-color: white;}#sk-container-id-1 div.sk-label label {font-family: monospace;font-weight: bold;display: inline-block;line-height: 1.2em;}#sk-container-id-1 div.sk-label-container {text-align: center;}#sk-container-id-1 div.sk-container {/* jupyter's `normalize.less` sets `[hidden] { display: none; }` but bootstrap.min.css set `[hidden] { display: none !important; }` so we also need the `!important` here to be able to override the default hidden behavior on the sphinx rendered scikit-learn.org. See: https://github.com/scikit-learn/scikit-learn/issues/21755 */display: inline-block !important;position: relative;}#sk-container-id-1 div.sk-text-repr-fallback {display: none;}</style><div id=\"sk-container-id-1\" class=\"sk-top-container\"><div class=\"sk-text-repr-fallback\"><pre>LogisticRegression(C=100.0, multi_class=&#x27;ovr&#x27;, random_state=1)</pre><b>In a Jupyter environment, please rerun this cell to show the HTML representation or trust the notebook. <br />On GitHub, the HTML representation is unable to render, please try loading this page with nbviewer.org.</b></div><div class=\"sk-container\" hidden><div class=\"sk-item\"><div class=\"sk-estimator sk-toggleable\"><input class=\"sk-toggleable__control sk-hidden--visually\" id=\"sk-estimator-id-1\" type=\"checkbox\" checked><label for=\"sk-estimator-id-1\" class=\"sk-toggleable__label sk-toggleable__label-arrow\">LogisticRegression</label><div class=\"sk-toggleable__content\"><pre>LogisticRegression(C=100.0, multi_class=&#x27;ovr&#x27;, random_state=1)</pre></div></div></div></div></div>"
      ],
      "text/plain": [
       "LogisticRegression(C=100.0, multi_class='ovr', random_state=1)"
      ]
     },
     "execution_count": 4,
     "metadata": {},
     "output_type": "execute_result"
    }
   ],
   "source": [
    "from sklearn.linear_model import LogisticRegression\n",
    "\n",
    "lr = LogisticRegression(\n",
    "    C=100.0,\n",
    "    random_state=1,\n",
    "    solver='lbfgs',\n",
    "    multi_class='ovr'\n",
    ")\n",
    "lr.fit(X_train, Y_train.flatten())"
   ]
  },
  {
   "cell_type": "code",
   "execution_count": 5,
   "metadata": {},
   "outputs": [],
   "source": [
    "predictions = lr.predict(X_test)"
   ]
  },
  {
   "cell_type": "code",
   "execution_count": 6,
   "metadata": {},
   "outputs": [
    {
     "data": {
      "text/plain": [
       "0.9613942123701021"
      ]
     },
     "execution_count": 6,
     "metadata": {},
     "output_type": "execute_result"
    }
   ],
   "source": [
    "accuracy = predictions[predictions == Y_test.flatten()].shape[0] / Y_test.shape[0]\n",
    "accuracy"
   ]
  },
  {
   "cell_type": "markdown",
   "metadata": {},
   "source": [
    "## Decision Tree"
   ]
  },
  {
   "cell_type": "code",
   "execution_count": 9,
   "metadata": {},
   "outputs": [
    {
     "data": {
      "text/html": [
       "<style>#sk-container-id-2 {color: black;background-color: white;}#sk-container-id-2 pre{padding: 0;}#sk-container-id-2 div.sk-toggleable {background-color: white;}#sk-container-id-2 label.sk-toggleable__label {cursor: pointer;display: block;width: 100%;margin-bottom: 0;padding: 0.3em;box-sizing: border-box;text-align: center;}#sk-container-id-2 label.sk-toggleable__label-arrow:before {content: \"▸\";float: left;margin-right: 0.25em;color: #696969;}#sk-container-id-2 label.sk-toggleable__label-arrow:hover:before {color: black;}#sk-container-id-2 div.sk-estimator:hover label.sk-toggleable__label-arrow:before {color: black;}#sk-container-id-2 div.sk-toggleable__content {max-height: 0;max-width: 0;overflow: hidden;text-align: left;background-color: #f0f8ff;}#sk-container-id-2 div.sk-toggleable__content pre {margin: 0.2em;color: black;border-radius: 0.25em;background-color: #f0f8ff;}#sk-container-id-2 input.sk-toggleable__control:checked~div.sk-toggleable__content {max-height: 200px;max-width: 100%;overflow: auto;}#sk-container-id-2 input.sk-toggleable__control:checked~label.sk-toggleable__label-arrow:before {content: \"▾\";}#sk-container-id-2 div.sk-estimator input.sk-toggleable__control:checked~label.sk-toggleable__label {background-color: #d4ebff;}#sk-container-id-2 div.sk-label input.sk-toggleable__control:checked~label.sk-toggleable__label {background-color: #d4ebff;}#sk-container-id-2 input.sk-hidden--visually {border: 0;clip: rect(1px 1px 1px 1px);clip: rect(1px, 1px, 1px, 1px);height: 1px;margin: -1px;overflow: hidden;padding: 0;position: absolute;width: 1px;}#sk-container-id-2 div.sk-estimator {font-family: monospace;background-color: #f0f8ff;border: 1px dotted black;border-radius: 0.25em;box-sizing: border-box;margin-bottom: 0.5em;}#sk-container-id-2 div.sk-estimator:hover {background-color: #d4ebff;}#sk-container-id-2 div.sk-parallel-item::after {content: \"\";width: 100%;border-bottom: 1px solid gray;flex-grow: 1;}#sk-container-id-2 div.sk-label:hover label.sk-toggleable__label {background-color: #d4ebff;}#sk-container-id-2 div.sk-serial::before {content: \"\";position: absolute;border-left: 1px solid gray;box-sizing: border-box;top: 0;bottom: 0;left: 50%;z-index: 0;}#sk-container-id-2 div.sk-serial {display: flex;flex-direction: column;align-items: center;background-color: white;padding-right: 0.2em;padding-left: 0.2em;position: relative;}#sk-container-id-2 div.sk-item {position: relative;z-index: 1;}#sk-container-id-2 div.sk-parallel {display: flex;align-items: stretch;justify-content: center;background-color: white;position: relative;}#sk-container-id-2 div.sk-item::before, #sk-container-id-2 div.sk-parallel-item::before {content: \"\";position: absolute;border-left: 1px solid gray;box-sizing: border-box;top: 0;bottom: 0;left: 50%;z-index: -1;}#sk-container-id-2 div.sk-parallel-item {display: flex;flex-direction: column;z-index: 1;position: relative;background-color: white;}#sk-container-id-2 div.sk-parallel-item:first-child::after {align-self: flex-end;width: 50%;}#sk-container-id-2 div.sk-parallel-item:last-child::after {align-self: flex-start;width: 50%;}#sk-container-id-2 div.sk-parallel-item:only-child::after {width: 0;}#sk-container-id-2 div.sk-dashed-wrapped {border: 1px dashed gray;margin: 0 0.4em 0.5em 0.4em;box-sizing: border-box;padding-bottom: 0.4em;background-color: white;}#sk-container-id-2 div.sk-label label {font-family: monospace;font-weight: bold;display: inline-block;line-height: 1.2em;}#sk-container-id-2 div.sk-label-container {text-align: center;}#sk-container-id-2 div.sk-container {/* jupyter's `normalize.less` sets `[hidden] { display: none; }` but bootstrap.min.css set `[hidden] { display: none !important; }` so we also need the `!important` here to be able to override the default hidden behavior on the sphinx rendered scikit-learn.org. See: https://github.com/scikit-learn/scikit-learn/issues/21755 */display: inline-block !important;position: relative;}#sk-container-id-2 div.sk-text-repr-fallback {display: none;}</style><div id=\"sk-container-id-2\" class=\"sk-top-container\"><div class=\"sk-text-repr-fallback\"><pre>DecisionTreeClassifier(max_depth=4, random_state=1)</pre><b>In a Jupyter environment, please rerun this cell to show the HTML representation or trust the notebook. <br />On GitHub, the HTML representation is unable to render, please try loading this page with nbviewer.org.</b></div><div class=\"sk-container\" hidden><div class=\"sk-item\"><div class=\"sk-estimator sk-toggleable\"><input class=\"sk-toggleable__control sk-hidden--visually\" id=\"sk-estimator-id-2\" type=\"checkbox\" checked><label for=\"sk-estimator-id-2\" class=\"sk-toggleable__label sk-toggleable__label-arrow\">DecisionTreeClassifier</label><div class=\"sk-toggleable__content\"><pre>DecisionTreeClassifier(max_depth=4, random_state=1)</pre></div></div></div></div></div>"
      ],
      "text/plain": [
       "DecisionTreeClassifier(max_depth=4, random_state=1)"
      ]
     },
     "execution_count": 9,
     "metadata": {},
     "output_type": "execute_result"
    }
   ],
   "source": [
    "from sklearn.tree import DecisionTreeClassifier\n",
    "\n",
    "tr = DecisionTreeClassifier(criterion='gini', max_depth=4, random_state=1)\n",
    "tr.fit(X_train, Y_train)"
   ]
  },
  {
   "cell_type": "code",
   "execution_count": 10,
   "metadata": {},
   "outputs": [
    {
     "data": {
      "text/plain": [
       "0.9428361152815803"
      ]
     },
     "execution_count": 10,
     "metadata": {},
     "output_type": "execute_result"
    }
   ],
   "source": [
    "predictions = tr.predict(X_test)\n",
    "accuracy = predictions[predictions == Y_test.flatten()].shape[0] / Y_test.shape[0]\n",
    "accuracy"
   ]
  },
  {
   "cell_type": "code",
   "execution_count": 12,
   "metadata": {},
   "outputs": [
    {
     "data": {
      "text/plain": [
       "[Text(0.5288461538461539, 0.9, 'X[13] <= 0.223\\ngini = 0.343\\nsamples = 396304\\nvalue = [318193, 267, 18011, 1470, 32312, 753, 813, 1107, 1\\n5, 22283, 806, 186, 3, 94]'),\n",
       " Text(0.3076923076923077, 0.7, 'X[52] <= 0.002\\ngini = 0.224\\nsamples = 362009\\nvalue = [317784, 267, 6686, 484, 10750, 752, 813, 1107, 0, 5\\n22272, 806, 186, 3, 94]'),\n",
       " Text(0.15384615384615385, 0.5, 'X[41] <= 0.0\\ngini = 0.594\\nsamples = 98997\\nvalue = [57644, 60, 6575, 354, 10656, 396, 393, 10, 0, 0\\n22262, 380, 172, 1, 94]'),\n",
       " Text(0.07692307692307693, 0.3, 'X[0] <= 0.001\\ngini = 0.421\\nsamples = 68237\\nvalue = [50670, 0, 6572, 354, 9266, 376, 206, 4, 0, 0, 142\\n380, 172, 1, 94]'),\n",
       " Text(0.038461538461538464, 0.1, 'gini = 0.7\\nsamples = 26621\\nvalue = [9102, 0, 6571, 354, 9266, 376, 206, 4, 0, 0, 95\\n380, 172, 1, 94]'),\n",
       " Text(0.11538461538461539, 0.1, 'gini = 0.002\\nsamples = 41616\\nvalue = [41568, 0, 1, 0, 0, 0, 0, 0, 0, 0, 47, 0, 0\\n0, 0]'),\n",
       " Text(0.23076923076923078, 0.3, 'X[37] <= 0.003\\ngini = 0.429\\nsamples = 30760\\nvalue = [6974, 60, 3, 0, 1390, 20, 187, 6, 0, 0, 22120, 0\\n0, 0, 0]'),\n",
       " Text(0.19230769230769232, 0.1, 'gini = 0.362\\nsamples = 7948\\nvalue = [6190, 60, 3, 0, 1390, 20, 187, 0, 0, 0, 98, 0\\n0, 0, 0]'),\n",
       " Text(0.2692307692307692, 0.1, 'gini = 0.067\\nsamples = 22812\\nvalue = [784, 0, 0, 0, 0, 0, 0, 6, 0, 0, 22022, 0, 0\\n0, 0]'),\n",
       " Text(0.46153846153846156, 0.5, 'X[0] <= 0.0\\ngini = 0.022\\nsamples = 263012\\nvalue = [260140, 207, 111, 130, 94, 356, 420, 1097, 0, 5\\n10, 426, 14, 2, 0]'),\n",
       " Text(0.38461538461538464, 0.3, 'X[54] <= 0.004\\ngini = 0.437\\nsamples = 1619\\nvalue = [522, 0, 0, 0, 0, 0, 0, 1097, 0, 0, 0, 0, 0\\n0, 0]'),\n",
       " Text(0.34615384615384615, 0.1, 'gini = 0.224\\nsamples = 1259\\nvalue = [162, 0, 0, 0, 0, 0, 0, 1097, 0, 0, 0, 0, 0\\n0, 0]'),\n",
       " Text(0.4230769230769231, 0.1, 'gini = 0.0\\nsamples = 360\\nvalue = [360, 0, 0, 0, 0, 0, 0, 0, 0, 0, 0, 0, 0, 0\\n0]'),\n",
       " Text(0.5384615384615384, 0.3, 'X[71] <= 0.071\\ngini = 0.014\\nsamples = 261393\\nvalue = [259618, 207, 111, 130, 94, 356, 420, 0, 0, 5, 10\\n426, 14, 2, 0]'),\n",
       " Text(0.5, 0.1, 'gini = 0.012\\nsamples = 260875\\nvalue = [259364, 207, 111, 128, 94, 342, 172, 0, 0, 5, 10\\n426, 14, 2, 0]'),\n",
       " Text(0.5769230769230769, 0.1, 'gini = 0.53\\nsamples = 518\\nvalue = [254, 0, 0, 2, 0, 14, 248, 0, 0, 0, 0, 0, 0\\n0, 0]'),\n",
       " Text(0.75, 0.7, 'X[6] <= 0.002\\ngini = 0.495\\nsamples = 34295\\nvalue = [409, 0, 11325, 986, 21562, 1, 0, 0, 1, 0, 11, 0\\n0, 0, 0]'),\n",
       " Text(0.6538461538461539, 0.5, 'X[63] <= 0.0\\ngini = 0.001\\nsamples = 11330\\nvalue = [0, 0, 11325, 0, 0, 0, 0, 0, 0, 0, 5, 0, 0, 0\\n0]'),\n",
       " Text(0.6153846153846154, 0.3, 'gini = 0.0\\nsamples = 5\\nvalue = [0, 0, 0, 0, 0, 0, 0, 0, 0, 0, 5, 0, 0, 0\\n0]'),\n",
       " Text(0.6923076923076923, 0.3, 'gini = 0.0\\nsamples = 11325\\nvalue = [0, 0, 11325, 0, 0, 0, 0, 0, 0, 0, 0, 0, 0, 0\\n0]'),\n",
       " Text(0.8461538461538461, 0.5, 'X[6] <= 0.017\\ngini = 0.116\\nsamples = 22965\\nvalue = [409, 0, 0, 986, 21562, 1, 0, 0, 1, 0, 6, 0, 0\\n0, 0]'),\n",
       " Text(0.7692307692307693, 0.3, 'X[52] <= 0.197\\ngini = 0.076\\nsamples = 22434\\nvalue = [312, 0, 0, 554, 21561, 1, 0, 0, 0, 0, 6, 0, 0\\n0, 0]'),\n",
       " Text(0.7307692307692307, 0.1, 'gini = 0.462\\nsamples = 435\\nvalue = [283, 0, 0, 147, 4, 1, 0, 0, 0, 0, 0, 0, 0, 0\\n0]'),\n",
       " Text(0.8076923076923077, 0.1, 'gini = 0.039\\nsamples = 21999\\nvalue = [29, 0, 0, 407, 21557, 0, 0, 0, 0, 0, 6, 0, 0\\n0, 0]'),\n",
       " Text(0.9230769230769231, 0.3, 'X[0] <= 0.004\\ngini = 0.305\\nsamples = 531\\nvalue = [97, 0, 0, 432, 1, 0, 0, 0, 1, 0, 0, 0, 0, 0\\n0]'),\n",
       " Text(0.8846153846153846, 0.1, 'gini = 0.073\\nsamples = 449\\nvalue = [16, 0, 0, 432, 1, 0, 0, 0, 0, 0, 0, 0, 0, 0\\n0]'),\n",
       " Text(0.9615384615384616, 0.1, 'gini = 0.024\\nsamples = 82\\nvalue = [81, 0, 0, 0, 0, 0, 0, 0, 1, 0, 0, 0, 0, 0\\n0]')]"
      ]
     },
     "execution_count": 12,
     "metadata": {},
     "output_type": "execute_result"
    },
    {
     "data": {
      "image/png": "[encoded data removed]",
      "text/plain": [
       "<Figure size 432x288 with 1 Axes>"
      ]
     },
     "metadata": {
      "needs_background": "light"
     },
     "output_type": "display_data"
    }
   ],
   "source": [
    "from sklearn import tree\n",
    "\n",
    "tree.plot_tree(tr)"
   ]
  }
 ],
 "metadata": {
  "kernelspec": {
   "display_name": "Python 3.10.6 64-bit",
   "language": "python",
   "name": "python3"
  },
  "language_info": {
   "codemirror_mode": {
    "name": "ipython",
    "version": 3
   },
   "file_extension": ".py",
   "mimetype": "text/x-python",
   "name": "python",
   "nbconvert_exporter": "python",
   "pygments_lexer": "ipython3",
   "version": "3.10.6"
  },
  "orig_nbformat": 4,
  "vscode": {
   "interpreter": {
    "hash": "e7370f93d1d0cde622a1f8e1c04877d8463912d04d973331ad4851f04de6915a"
   }
  }
 },
 "nbformat": 4,
 "nbformat_minor": 2
}
