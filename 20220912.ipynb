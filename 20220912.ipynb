{
  "cells": [
    {
      "cell_type": "markdown",
      "metadata": {
        "id": "qtAst1T5RjeH"
      },
      "source": [
        "# 20220912 | Deep Learning\n",
        "\n",
        "## Dataset Preprocessing"
      ]
    },
    {
      "cell_type": "code",
      "execution_count": 3,
      "metadata": {
        "id": "QdAKQOL7R4_w"
      },
      "outputs": [
        {
          "name": "stderr",
          "output_type": "stream",
          "text": [
            "2022-09-19 08:36:27.283108: I tensorflow/core/platform/cpu_feature_guard.cc:193] This TensorFlow binary is optimized with oneAPI Deep Neural Network Library (oneDNN) to use the following CPU instructions in performance-critical operations:  AVX2 FMA\n",
            "To enable them in other operations, rebuild TensorFlow with the appropriate compiler flags.\n",
            "2022-09-19 08:36:27.967378: W tensorflow/stream_executor/platform/default/dso_loader.cc:64] Could not load dynamic library 'libcudart.so.11.0'; dlerror: libcudart.so.11.0: cannot open shared object file: No such file or directory\n",
            "2022-09-19 08:36:27.967460: I tensorflow/stream_executor/cuda/cudart_stub.cc:29] Ignore above cudart dlerror if you do not have a GPU set up on your machine.\n",
            "2022-09-19 08:36:28.060791: E tensorflow/stream_executor/cuda/cuda_blas.cc:2981] Unable to register cuBLAS factory: Attempting to register factory for plugin cuBLAS when one has already been registered\n",
            "2022-09-19 08:36:30.085001: W tensorflow/stream_executor/platform/default/dso_loader.cc:64] Could not load dynamic library 'libnvinfer.so.7'; dlerror: libnvinfer.so.7: cannot open shared object file: No such file or directory\n",
            "2022-09-19 08:36:30.085139: W tensorflow/stream_executor/platform/default/dso_loader.cc:64] Could not load dynamic library 'libnvinfer_plugin.so.7'; dlerror: libnvinfer_plugin.so.7: cannot open shared object file: No such file or directory\n",
            "2022-09-19 08:36:30.085154: W tensorflow/compiler/tf2tensorrt/utils/py_utils.cc:38] TF-TRT Warning: Cannot dlopen some TensorRT libraries. If you would like to use Nvidia GPU with TensorRT, please make sure the missing libraries mentioned above are installed properly.\n"
          ]
        }
      ],
      "source": [
        "import numpy as np\n",
        "import pandas as pd\n",
        "import tensorflow as tf\n",
        "import matplotlib.pyplot as plt\n",
        "\n",
        "from sklearn.metrics import classification_report\n",
        "from sklearn.preprocessing import MinMaxScaler\n",
        "from sklearn.model_selection import train_test_split\n",
        "\n",
        "import tensorflow.keras as keras\n",
        "\n",
        "from keras.models import Sequential\n",
        "from keras.layers import Dense\n"
      ]
    },
    {
      "cell_type": "code",
      "execution_count": 4,
      "metadata": {
        "id": "5EIr1I7ZSCOJ"
      },
      "outputs": [],
      "source": [
        "# df_train = pd.read_csv('../train_MachineLearningCVE.csv')\n",
        "df_test = pd.read_csv('../test_MachineLearningCVE.csv')"
      ]
    },
    {
      "cell_type": "code",
      "execution_count": 5,
      "metadata": {
        "colab": {
          "base_uri": "https://localhost:8080/",
          "height": 520
        },
        "id": "BxQjRJMDTKa1",
        "outputId": "795ff4aa-32ab-4fa7-9907-ef8e32bc60fa"
      },
      "outputs": [],
      "source": [
        "# df_train"
      ]
    },
    {
      "cell_type": "code",
      "execution_count": 6,
      "metadata": {
        "colab": {
          "base_uri": "https://localhost:8080/",
          "height": 520
        },
        "id": "m7XSZrpTTM2l",
        "outputId": "7a6a181f-d84d-4d98-dd54-44f592341915"
      },
      "outputs": [
        {
          "data": {
            "text/html": [
              "<div>\n",
              "<style scoped>\n",
              "    .dataframe tbody tr th:only-of-type {\n",
              "        vertical-align: middle;\n",
              "    }\n",
              "\n",
              "    .dataframe tbody tr th {\n",
              "        vertical-align: top;\n",
              "    }\n",
              "\n",
              "    .dataframe thead th {\n",
              "        text-align: right;\n",
              "    }\n",
              "</style>\n",
              "<table border=\"1\" class=\"dataframe\">\n",
              "  <thead>\n",
              "    <tr style=\"text-align: right;\">\n",
              "      <th></th>\n",
              "      <th>Destination Port</th>\n",
              "      <th>Flow Duration</th>\n",
              "      <th>Total Fwd Packets</th>\n",
              "      <th>Total Backward Packets</th>\n",
              "      <th>Total Length of Fwd Packets</th>\n",
              "      <th>Total Length of Bwd Packets</th>\n",
              "      <th>Fwd Packet Length Max</th>\n",
              "      <th>Fwd Packet Length Min</th>\n",
              "      <th>Fwd Packet Length Mean</th>\n",
              "      <th>Fwd Packet Length Std</th>\n",
              "      <th>...</th>\n",
              "      <th>min_seg_size_forward</th>\n",
              "      <th>Active Mean</th>\n",
              "      <th>Active Std</th>\n",
              "      <th>Active Max</th>\n",
              "      <th>Active Min</th>\n",
              "      <th>Idle Mean</th>\n",
              "      <th>Idle Std</th>\n",
              "      <th>Idle Max</th>\n",
              "      <th>Idle Min</th>\n",
              "      <th>Label</th>\n",
              "    </tr>\n",
              "  </thead>\n",
              "  <tbody>\n",
              "    <tr>\n",
              "      <th>0</th>\n",
              "      <td>53</td>\n",
              "      <td>180.0</td>\n",
              "      <td>2</td>\n",
              "      <td>2</td>\n",
              "      <td>76</td>\n",
              "      <td>108</td>\n",
              "      <td>38</td>\n",
              "      <td>38</td>\n",
              "      <td>38.000000</td>\n",
              "      <td>0.000000</td>\n",
              "      <td>...</td>\n",
              "      <td>32.0</td>\n",
              "      <td>0.0</td>\n",
              "      <td>0.0</td>\n",
              "      <td>0</td>\n",
              "      <td>0</td>\n",
              "      <td>0.0</td>\n",
              "      <td>0.0</td>\n",
              "      <td>0</td>\n",
              "      <td>0</td>\n",
              "      <td>0</td>\n",
              "    </tr>\n",
              "    <tr>\n",
              "      <th>1</th>\n",
              "      <td>80</td>\n",
              "      <td>84213354.0</td>\n",
              "      <td>10</td>\n",
              "      <td>6</td>\n",
              "      <td>1077</td>\n",
              "      <td>11595</td>\n",
              "      <td>357</td>\n",
              "      <td>0</td>\n",
              "      <td>107.700000</td>\n",
              "      <td>172.043308</td>\n",
              "      <td>...</td>\n",
              "      <td>20.0</td>\n",
              "      <td>999.0</td>\n",
              "      <td>0.0</td>\n",
              "      <td>999</td>\n",
              "      <td>999</td>\n",
              "      <td>83600000.0</td>\n",
              "      <td>0.0</td>\n",
              "      <td>83600000</td>\n",
              "      <td>83600000</td>\n",
              "      <td>4</td>\n",
              "    </tr>\n",
              "    <tr>\n",
              "      <th>2</th>\n",
              "      <td>88</td>\n",
              "      <td>156.0</td>\n",
              "      <td>1</td>\n",
              "      <td>4</td>\n",
              "      <td>0</td>\n",
              "      <td>12</td>\n",
              "      <td>0</td>\n",
              "      <td>0</td>\n",
              "      <td>0.000000</td>\n",
              "      <td>0.000000</td>\n",
              "      <td>...</td>\n",
              "      <td>32.0</td>\n",
              "      <td>0.0</td>\n",
              "      <td>0.0</td>\n",
              "      <td>0</td>\n",
              "      <td>0</td>\n",
              "      <td>0.0</td>\n",
              "      <td>0.0</td>\n",
              "      <td>0</td>\n",
              "      <td>0</td>\n",
              "      <td>0</td>\n",
              "    </tr>\n",
              "    <tr>\n",
              "      <th>3</th>\n",
              "      <td>53</td>\n",
              "      <td>71031.0</td>\n",
              "      <td>1</td>\n",
              "      <td>1</td>\n",
              "      <td>47</td>\n",
              "      <td>132</td>\n",
              "      <td>47</td>\n",
              "      <td>47</td>\n",
              "      <td>47.000000</td>\n",
              "      <td>0.000000</td>\n",
              "      <td>...</td>\n",
              "      <td>20.0</td>\n",
              "      <td>0.0</td>\n",
              "      <td>0.0</td>\n",
              "      <td>0</td>\n",
              "      <td>0</td>\n",
              "      <td>0.0</td>\n",
              "      <td>0.0</td>\n",
              "      <td>0</td>\n",
              "      <td>0</td>\n",
              "      <td>0</td>\n",
              "    </tr>\n",
              "    <tr>\n",
              "      <th>4</th>\n",
              "      <td>80</td>\n",
              "      <td>84910301.0</td>\n",
              "      <td>6</td>\n",
              "      <td>5</td>\n",
              "      <td>400</td>\n",
              "      <td>11595</td>\n",
              "      <td>400</td>\n",
              "      <td>0</td>\n",
              "      <td>66.666667</td>\n",
              "      <td>163.299316</td>\n",
              "      <td>...</td>\n",
              "      <td>32.0</td>\n",
              "      <td>4.0</td>\n",
              "      <td>0.0</td>\n",
              "      <td>4</td>\n",
              "      <td>4</td>\n",
              "      <td>84800000.0</td>\n",
              "      <td>0.0</td>\n",
              "      <td>84800000</td>\n",
              "      <td>84800000</td>\n",
              "      <td>4</td>\n",
              "    </tr>\n",
              "    <tr>\n",
              "      <th>...</th>\n",
              "      <td>...</td>\n",
              "      <td>...</td>\n",
              "      <td>...</td>\n",
              "      <td>...</td>\n",
              "      <td>...</td>\n",
              "      <td>...</td>\n",
              "      <td>...</td>\n",
              "      <td>...</td>\n",
              "      <td>...</td>\n",
              "      <td>...</td>\n",
              "      <td>...</td>\n",
              "      <td>...</td>\n",
              "      <td>...</td>\n",
              "      <td>...</td>\n",
              "      <td>...</td>\n",
              "      <td>...</td>\n",
              "      <td>...</td>\n",
              "      <td>...</td>\n",
              "      <td>...</td>\n",
              "      <td>...</td>\n",
              "      <td>...</td>\n",
              "    </tr>\n",
              "    <tr>\n",
              "      <th>566144</th>\n",
              "      <td>80</td>\n",
              "      <td>3570982.0</td>\n",
              "      <td>3</td>\n",
              "      <td>3</td>\n",
              "      <td>6</td>\n",
              "      <td>6</td>\n",
              "      <td>6</td>\n",
              "      <td>0</td>\n",
              "      <td>2.000000</td>\n",
              "      <td>3.464102</td>\n",
              "      <td>...</td>\n",
              "      <td>20.0</td>\n",
              "      <td>0.0</td>\n",
              "      <td>0.0</td>\n",
              "      <td>0</td>\n",
              "      <td>0</td>\n",
              "      <td>0.0</td>\n",
              "      <td>0.0</td>\n",
              "      <td>0</td>\n",
              "      <td>0</td>\n",
              "      <td>0</td>\n",
              "    </tr>\n",
              "    <tr>\n",
              "      <th>566145</th>\n",
              "      <td>80</td>\n",
              "      <td>8389778.0</td>\n",
              "      <td>4</td>\n",
              "      <td>0</td>\n",
              "      <td>24</td>\n",
              "      <td>0</td>\n",
              "      <td>6</td>\n",
              "      <td>6</td>\n",
              "      <td>6.000000</td>\n",
              "      <td>0.000000</td>\n",
              "      <td>...</td>\n",
              "      <td>20.0</td>\n",
              "      <td>5989.0</td>\n",
              "      <td>0.0</td>\n",
              "      <td>5989</td>\n",
              "      <td>5989</td>\n",
              "      <td>8383789.0</td>\n",
              "      <td>0.0</td>\n",
              "      <td>8383789</td>\n",
              "      <td>8383789</td>\n",
              "      <td>2</td>\n",
              "    </tr>\n",
              "    <tr>\n",
              "      <th>566146</th>\n",
              "      <td>80</td>\n",
              "      <td>1400543.0</td>\n",
              "      <td>3</td>\n",
              "      <td>5</td>\n",
              "      <td>26</td>\n",
              "      <td>11601</td>\n",
              "      <td>20</td>\n",
              "      <td>0</td>\n",
              "      <td>8.666667</td>\n",
              "      <td>10.263203</td>\n",
              "      <td>...</td>\n",
              "      <td>20.0</td>\n",
              "      <td>0.0</td>\n",
              "      <td>0.0</td>\n",
              "      <td>0</td>\n",
              "      <td>0</td>\n",
              "      <td>0.0</td>\n",
              "      <td>0.0</td>\n",
              "      <td>0</td>\n",
              "      <td>0</td>\n",
              "      <td>2</td>\n",
              "    </tr>\n",
              "    <tr>\n",
              "      <th>566147</th>\n",
              "      <td>53</td>\n",
              "      <td>81981.0</td>\n",
              "      <td>4</td>\n",
              "      <td>2</td>\n",
              "      <td>180</td>\n",
              "      <td>146</td>\n",
              "      <td>45</td>\n",
              "      <td>45</td>\n",
              "      <td>45.000000</td>\n",
              "      <td>0.000000</td>\n",
              "      <td>...</td>\n",
              "      <td>20.0</td>\n",
              "      <td>0.0</td>\n",
              "      <td>0.0</td>\n",
              "      <td>0</td>\n",
              "      <td>0</td>\n",
              "      <td>0.0</td>\n",
              "      <td>0.0</td>\n",
              "      <td>0</td>\n",
              "      <td>0</td>\n",
              "      <td>0</td>\n",
              "    </tr>\n",
              "    <tr>\n",
              "      <th>566148</th>\n",
              "      <td>2323</td>\n",
              "      <td>72.0</td>\n",
              "      <td>1</td>\n",
              "      <td>1</td>\n",
              "      <td>0</td>\n",
              "      <td>6</td>\n",
              "      <td>0</td>\n",
              "      <td>0</td>\n",
              "      <td>0.000000</td>\n",
              "      <td>0.000000</td>\n",
              "      <td>...</td>\n",
              "      <td>40.0</td>\n",
              "      <td>0.0</td>\n",
              "      <td>0.0</td>\n",
              "      <td>0</td>\n",
              "      <td>0</td>\n",
              "      <td>0.0</td>\n",
              "      <td>0.0</td>\n",
              "      <td>0</td>\n",
              "      <td>0</td>\n",
              "      <td>10</td>\n",
              "    </tr>\n",
              "  </tbody>\n",
              "</table>\n",
              "<p>566149 rows × 79 columns</p>\n",
              "</div>"
            ],
            "text/plain": [
              "        Destination Port  Flow Duration  Total Fwd Packets  \\\n",
              "0                     53          180.0                  2   \n",
              "1                     80     84213354.0                 10   \n",
              "2                     88          156.0                  1   \n",
              "3                     53        71031.0                  1   \n",
              "4                     80     84910301.0                  6   \n",
              "...                  ...            ...                ...   \n",
              "566144                80      3570982.0                  3   \n",
              "566145                80      8389778.0                  4   \n",
              "566146                80      1400543.0                  3   \n",
              "566147                53        81981.0                  4   \n",
              "566148              2323           72.0                  1   \n",
              "\n",
              "        Total Backward Packets  Total Length of Fwd Packets  \\\n",
              "0                            2                           76   \n",
              "1                            6                         1077   \n",
              "2                            4                            0   \n",
              "3                            1                           47   \n",
              "4                            5                          400   \n",
              "...                        ...                          ...   \n",
              "566144                       3                            6   \n",
              "566145                       0                           24   \n",
              "566146                       5                           26   \n",
              "566147                       2                          180   \n",
              "566148                       1                            0   \n",
              "\n",
              "        Total Length of Bwd Packets  Fwd Packet Length Max  \\\n",
              "0                               108                     38   \n",
              "1                             11595                    357   \n",
              "2                                12                      0   \n",
              "3                               132                     47   \n",
              "4                             11595                    400   \n",
              "...                             ...                    ...   \n",
              "566144                            6                      6   \n",
              "566145                            0                      6   \n",
              "566146                        11601                     20   \n",
              "566147                          146                     45   \n",
              "566148                            6                      0   \n",
              "\n",
              "        Fwd Packet Length Min  Fwd Packet Length Mean  Fwd Packet Length Std  \\\n",
              "0                          38               38.000000               0.000000   \n",
              "1                           0              107.700000             172.043308   \n",
              "2                           0                0.000000               0.000000   \n",
              "3                          47               47.000000               0.000000   \n",
              "4                           0               66.666667             163.299316   \n",
              "...                       ...                     ...                    ...   \n",
              "566144                      0                2.000000               3.464102   \n",
              "566145                      6                6.000000               0.000000   \n",
              "566146                      0                8.666667              10.263203   \n",
              "566147                     45               45.000000               0.000000   \n",
              "566148                      0                0.000000               0.000000   \n",
              "\n",
              "        ...  min_seg_size_forward  Active Mean  Active Std  Active Max  \\\n",
              "0       ...                  32.0          0.0         0.0           0   \n",
              "1       ...                  20.0        999.0         0.0         999   \n",
              "2       ...                  32.0          0.0         0.0           0   \n",
              "3       ...                  20.0          0.0         0.0           0   \n",
              "4       ...                  32.0          4.0         0.0           4   \n",
              "...     ...                   ...          ...         ...         ...   \n",
              "566144  ...                  20.0          0.0         0.0           0   \n",
              "566145  ...                  20.0       5989.0         0.0        5989   \n",
              "566146  ...                  20.0          0.0         0.0           0   \n",
              "566147  ...                  20.0          0.0         0.0           0   \n",
              "566148  ...                  40.0          0.0         0.0           0   \n",
              "\n",
              "        Active Min   Idle Mean  Idle Std  Idle Max  Idle Min  Label  \n",
              "0                0         0.0       0.0         0         0      0  \n",
              "1              999  83600000.0       0.0  83600000  83600000      4  \n",
              "2                0         0.0       0.0         0         0      0  \n",
              "3                0         0.0       0.0         0         0      0  \n",
              "4                4  84800000.0       0.0  84800000  84800000      4  \n",
              "...            ...         ...       ...       ...       ...    ...  \n",
              "566144           0         0.0       0.0         0         0      0  \n",
              "566145        5989   8383789.0       0.0   8383789   8383789      2  \n",
              "566146           0         0.0       0.0         0         0      2  \n",
              "566147           0         0.0       0.0         0         0      0  \n",
              "566148           0         0.0       0.0         0         0     10  \n",
              "\n",
              "[566149 rows x 79 columns]"
            ]
          },
          "execution_count": 6,
          "metadata": {},
          "output_type": "execute_result"
        }
      ],
      "source": [
        "df_test"
      ]
    },
    {
      "cell_type": "markdown",
      "metadata": {
        "id": "_YGAHLraGFlj"
      },
      "source": [
        "- Assembling the complete dataset from the 2 files"
      ]
    },
    {
      "cell_type": "code",
      "execution_count": 7,
      "metadata": {
        "colab": {
          "base_uri": "https://localhost:8080/"
        },
        "id": "B4vpkNrGTO5v",
        "outputId": "ff1af741-a8ec-4deb-8ea4-29f0e643fc0a"
      },
      "outputs": [
        {
          "data": {
            "text/plain": [
              "array([ 0,  4, 10,  3,  7,  6,  5, 11, 12,  1, 14,  9,  8, 13,  2])"
            ]
          },
          "execution_count": 7,
          "metadata": {},
          "output_type": "execute_result"
        }
      ],
      "source": [
        "# df = pd.concat([df_train, df_test], axis=0, copy=True)\n",
        "df = df_test\n",
        "df.Label.unique()"
      ]
    },
    {
      "cell_type": "code",
      "execution_count": 8,
      "metadata": {
        "id": "0tW_vPZuF6__"
      },
      "outputs": [],
      "source": [
        "def preprocessing(df):\n",
        "    # Shuffle the dataset\n",
        "    df = df.sample(frac=1)\n",
        "\n",
        "    # Split features and labels\n",
        "    x = df.iloc[:, df.columns != 'Label']\n",
        "    y = df[['Label']].to_numpy()\n",
        "\n",
        "    # Scale the features between 0 ~ 1\n",
        "    scaler = MinMaxScaler()\n",
        "    x = scaler.fit_transform(x)\n",
        "\n",
        "    return x, y\n",
        "\n",
        "x, y = preprocessing(df)"
      ]
    },
    {
      "cell_type": "markdown",
      "metadata": {
        "id": "Z6kPQ6kNGC5W"
      },
      "source": [
        "- splitting the dataset"
      ]
    },
    {
      "cell_type": "code",
      "execution_count": 9,
      "metadata": {
        "id": "pXFiyKMxGCBb"
      },
      "outputs": [],
      "source": [
        "X_train,X_test,Y_train,Y_test = train_test_split(x, y, train_size=0.7, random_state=42)"
      ]
    },
    {
      "cell_type": "code",
      "execution_count": 10,
      "metadata": {
        "colab": {
          "base_uri": "https://localhost:8080/"
        },
        "id": "t6YYcsXYHpt6",
        "outputId": "5c1a69cd-7502-415d-cd5a-4cdff2fef7fb"
      },
      "outputs": [
        {
          "name": "stdout",
          "output_type": "stream",
          "text": [
            "(396304, 78)\n",
            "(396304, 1)\n",
            "(169845, 78)\n",
            "(169845, 1)\n"
          ]
        }
      ],
      "source": [
        "print(X_train.shape)\n",
        "print(Y_train.shape)\n",
        "\n",
        "print(X_test.shape)\n",
        "print(Y_test.shape)"
      ]
    },
    {
      "cell_type": "markdown",
      "metadata": {
        "id": "3n5wPzP9GP3M"
      },
      "source": [
        "## DL model\n",
        "### Creating the Model"
      ]
    },
    {
      "cell_type": "code",
      "execution_count": 18,
      "metadata": {
        "id": "pkAznXZ8GcHl"
      },
      "outputs": [],
      "source": [
        "model = Sequential()\n",
        "model.add(Dense(80, input_dim=78, activation='relu'))\n",
        "model.add(Dense(80, activation='relu'))\n",
        "model.add(Dense(80, activation='sigmoid'))\n",
        "model.compile(loss='categorical_crossentropy', optimizer='adam', metrics=['accuracy'])"
      ]
    },
    {
      "cell_type": "code",
      "execution_count": 19,
      "metadata": {
        "colab": {
          "base_uri": "https://localhost:8080/"
        },
        "id": "V8QYIaH5ICet",
        "outputId": "bf865fe4-b226-40f5-bde0-0408391ab151"
      },
      "outputs": [
        {
          "name": "stdout",
          "output_type": "stream",
          "text": [
            "Model: \"sequential_1\"\n",
            "_________________________________________________________________\n",
            " Layer (type)                Output Shape              Param #   \n",
            "=================================================================\n",
            " dense_3 (Dense)             (None, 80)                6320      \n",
            "                                                                 \n",
            " dense_4 (Dense)             (None, 80)                6480      \n",
            "                                                                 \n",
            " dense_5 (Dense)             (None, 1)                 81        \n",
            "                                                                 \n",
            "=================================================================\n",
            "Total params: 12,881\n",
            "Trainable params: 12,881\n",
            "Non-trainable params: 0\n",
            "_________________________________________________________________\n"
          ]
        }
      ],
      "source": [
        "model.summary()"
      ]
    },
    {
      "cell_type": "markdown",
      "metadata": {
        "id": "isPshfW4IJqO"
      },
      "source": [
        "### Training the Model"
      ]
    },
    {
      "cell_type": "code",
      "execution_count": 20,
      "metadata": {
        "colab": {
          "base_uri": "https://localhost:8080/"
        },
        "id": "BnWQIixJJjVb",
        "outputId": "abd5bdeb-114b-4e49-ffdc-c41931e3645a"
      },
      "outputs": [
        {
          "name": "stderr",
          "output_type": "stream",
          "text": [
            "2022-09-19 09:27:07.020132: W tensorflow/core/framework/cpu_allocator_impl.cc:82] Allocation of 123646848 exceeds 10% of free system memory.\n"
          ]
        },
        {
          "name": "stdout",
          "output_type": "stream",
          "text": [
            "Epoch 1/10\n",
            "12385/12385 [==============================] - 57s 4ms/step - loss: 0.0000e+00 - accuracy: 0.5690\n",
            "Epoch 2/10\n",
            "12385/12385 [==============================] - 55s 4ms/step - loss: 0.0000e+00 - accuracy: 0.5742\n",
            "Epoch 3/10\n",
            "12385/12385 [==============================] - 56s 5ms/step - loss: 0.0000e+00 - accuracy: 0.5751\n",
            "Epoch 4/10\n",
            "12385/12385 [==============================] - 57s 5ms/step - loss: 0.0000e+00 - accuracy: 0.5749\n",
            "Epoch 5/10\n",
            "12385/12385 [==============================] - 55s 4ms/step - loss: 0.0000e+00 - accuracy: 0.5752\n",
            "Epoch 6/10\n",
            "12385/12385 [==============================] - 56s 5ms/step - loss: 0.0000e+00 - accuracy: 0.5750\n",
            "Epoch 7/10\n",
            "12385/12385 [==============================] - 56s 4ms/step - loss: 0.0000e+00 - accuracy: 0.5749\n",
            "Epoch 8/10\n",
            "12385/12385 [==============================] - 53s 4ms/step - loss: 0.0000e+00 - accuracy: 0.5750\n",
            "Epoch 9/10\n",
            "12385/12385 [==============================] - 54s 4ms/step - loss: 0.0000e+00 - accuracy: 0.5749\n",
            "Epoch 10/10\n",
            "12385/12385 [==============================] - 13265s 1s/step - loss: 0.0000e+00 - accuracy: 0.5750\n"
          ]
        },
        {
          "data": {
            "text/plain": [
              "<keras.callbacks.History at 0x7f61857ea9e0>"
            ]
          },
          "execution_count": 20,
          "metadata": {},
          "output_type": "execute_result"
        }
      ],
      "source": [
        "model.fit(X_train, Y_train, epochs=10, batch_size=32)"
      ]
    },
    {
      "cell_type": "markdown",
      "metadata": {},
      "source": [
        "## Make Predictions"
      ]
    },
    {
      "cell_type": "code",
      "execution_count": 17,
      "metadata": {},
      "outputs": [
        {
          "name": "stdout",
          "output_type": "stream",
          "text": [
            "5308/5308 [==============================] - 19s 4ms/step\n",
            "(169845, 1)\n",
            "(169845, 1)\n",
            "0.7497718508051459\n"
          ]
        }
      ],
      "source": [
        "predictions = model.predict(X_test)\n",
        "\n",
        "accuracy = Y_test[predictions == Y_test].shape[0]/Y_test.shape[0]\n",
        "\n",
        "print(accuracy)"
      ]
    }
  ],
  "metadata": {
    "accelerator": "GPU",
    "colab": {
      "collapsed_sections": [],
      "provenance": []
    },
    "kernelspec": {
      "display_name": "Python 3.10.6 64-bit",
      "language": "python",
      "name": "python3"
    },
    "language_info": {
      "codemirror_mode": {
        "name": "ipython",
        "version": 3
      },
      "file_extension": ".py",
      "mimetype": "text/x-python",
      "name": "python",
      "nbconvert_exporter": "python",
      "pygments_lexer": "ipython3",
      "version": "3.10.6"
    },
    "vscode": {
      "interpreter": {
        "hash": "e7370f93d1d0cde622a1f8e1c04877d8463912d04d973331ad4851f04de6915a"
      }
    }
  },
  "nbformat": 4,
  "nbformat_minor": 0
}
