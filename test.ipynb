{
 "cells": [
  {
   "cell_type": "code",
   "execution_count": 2,
   "metadata": {},
   "outputs": [],
   "source": [
    "import numpy as np\n",
    "import pandas as pd\n",
    "import matplotlib as mpl\n",
    "import matplotlib.pyplot as plt"
   ]
  },
  {
   "cell_type": "markdown",
   "metadata": {},
   "source": [
    "## Loading the `iris` Dataset"
   ]
  },
  {
   "cell_type": "code",
   "execution_count": 20,
   "metadata": {},
   "outputs": [],
   "source": [
    "from sklearn import datasets\n",
    "\n",
    "iris = datasets.load_iris()\n",
    "iris_df = pd.concat([\n",
    "    pd.DataFrame(iris.data),\n",
    "    pd.DataFrame(iris.target)\n",
    "], axis=1)\n",
    "iris_df.columns = [\n",
    "    'sepal_len',\n",
    "    'sepal_wid',\n",
    "    'petal_len',\n",
    "    'petal_wid',\n",
    "    'Label'\n",
    "]"
   ]
  },
  {
   "cell_type": "code",
   "execution_count": 21,
   "metadata": {},
   "outputs": [
    {
     "data": {
      "text/html": [
       "<div>\n",
       "<style scoped>\n",
       "    .dataframe tbody tr th:only-of-type {\n",
       "        vertical-align: middle;\n",
       "    }\n",
       "\n",
       "    .dataframe tbody tr th {\n",
       "        vertical-align: top;\n",
       "    }\n",
       "\n",
       "    .dataframe thead th {\n",
       "        text-align: right;\n",
       "    }\n",
       "</style>\n",
       "<table border=\"1\" class=\"dataframe\">\n",
       "  <thead>\n",
       "    <tr style=\"text-align: right;\">\n",
       "      <th></th>\n",
       "      <th>sepal_len</th>\n",
       "      <th>sepal_wid</th>\n",
       "      <th>petal_len</th>\n",
       "      <th>petal_wid</th>\n",
       "      <th>Label</th>\n",
       "    </tr>\n",
       "  </thead>\n",
       "  <tbody>\n",
       "    <tr>\n",
       "      <th>count</th>\n",
       "      <td>150.000000</td>\n",
       "      <td>150.000000</td>\n",
       "      <td>150.000000</td>\n",
       "      <td>150.000000</td>\n",
       "      <td>150.000000</td>\n",
       "    </tr>\n",
       "    <tr>\n",
       "      <th>mean</th>\n",
       "      <td>5.843333</td>\n",
       "      <td>3.057333</td>\n",
       "      <td>3.758000</td>\n",
       "      <td>1.199333</td>\n",
       "      <td>1.000000</td>\n",
       "    </tr>\n",
       "    <tr>\n",
       "      <th>std</th>\n",
       "      <td>0.828066</td>\n",
       "      <td>0.435866</td>\n",
       "      <td>1.765298</td>\n",
       "      <td>0.762238</td>\n",
       "      <td>0.819232</td>\n",
       "    </tr>\n",
       "    <tr>\n",
       "      <th>min</th>\n",
       "      <td>4.300000</td>\n",
       "      <td>2.000000</td>\n",
       "      <td>1.000000</td>\n",
       "      <td>0.100000</td>\n",
       "      <td>0.000000</td>\n",
       "    </tr>\n",
       "    <tr>\n",
       "      <th>25%</th>\n",
       "      <td>5.100000</td>\n",
       "      <td>2.800000</td>\n",
       "      <td>1.600000</td>\n",
       "      <td>0.300000</td>\n",
       "      <td>0.000000</td>\n",
       "    </tr>\n",
       "    <tr>\n",
       "      <th>50%</th>\n",
       "      <td>5.800000</td>\n",
       "      <td>3.000000</td>\n",
       "      <td>4.350000</td>\n",
       "      <td>1.300000</td>\n",
       "      <td>1.000000</td>\n",
       "    </tr>\n",
       "    <tr>\n",
       "      <th>75%</th>\n",
       "      <td>6.400000</td>\n",
       "      <td>3.300000</td>\n",
       "      <td>5.100000</td>\n",
       "      <td>1.800000</td>\n",
       "      <td>2.000000</td>\n",
       "    </tr>\n",
       "    <tr>\n",
       "      <th>max</th>\n",
       "      <td>7.900000</td>\n",
       "      <td>4.400000</td>\n",
       "      <td>6.900000</td>\n",
       "      <td>2.500000</td>\n",
       "      <td>2.000000</td>\n",
       "    </tr>\n",
       "  </tbody>\n",
       "</table>\n",
       "</div>"
      ],
      "text/plain": [
       "        sepal_len   sepal_wid   petal_len   petal_wid       Label\n",
       "count  150.000000  150.000000  150.000000  150.000000  150.000000\n",
       "mean     5.843333    3.057333    3.758000    1.199333    1.000000\n",
       "std      0.828066    0.435866    1.765298    0.762238    0.819232\n",
       "min      4.300000    2.000000    1.000000    0.100000    0.000000\n",
       "25%      5.100000    2.800000    1.600000    0.300000    0.000000\n",
       "50%      5.800000    3.000000    4.350000    1.300000    1.000000\n",
       "75%      6.400000    3.300000    5.100000    1.800000    2.000000\n",
       "max      7.900000    4.400000    6.900000    2.500000    2.000000"
      ]
     },
     "execution_count": 21,
     "metadata": {},
     "output_type": "execute_result"
    }
   ],
   "source": [
    "iris_df.describe()"
   ]
  },
  {
   "cell_type": "markdown",
   "metadata": {},
   "source": [
    "## Loading the `CICIDS` Dataset"
   ]
  },
  {
   "cell_type": "code",
   "execution_count": 25,
   "metadata": {},
   "outputs": [],
   "source": [
    "cicids_df = pd.read_csv(\"../test_MachineLearningCVE.csv\", skipinitialspace=True)"
   ]
  },
  {
   "cell_type": "code",
   "execution_count": 26,
   "metadata": {},
   "outputs": [
    {
     "data": {
      "text/html": [
       "<div>\n",
       "<style scoped>\n",
       "    .dataframe tbody tr th:only-of-type {\n",
       "        vertical-align: middle;\n",
       "    }\n",
       "\n",
       "    .dataframe tbody tr th {\n",
       "        vertical-align: top;\n",
       "    }\n",
       "\n",
       "    .dataframe thead th {\n",
       "        text-align: right;\n",
       "    }\n",
       "</style>\n",
       "<table border=\"1\" class=\"dataframe\">\n",
       "  <thead>\n",
       "    <tr style=\"text-align: right;\">\n",
       "      <th></th>\n",
       "      <th>Destination Port</th>\n",
       "      <th>Flow Duration</th>\n",
       "      <th>Total Fwd Packets</th>\n",
       "      <th>Total Backward Packets</th>\n",
       "      <th>Total Length of Fwd Packets</th>\n",
       "      <th>Total Length of Bwd Packets</th>\n",
       "      <th>Fwd Packet Length Max</th>\n",
       "      <th>Fwd Packet Length Min</th>\n",
       "      <th>Fwd Packet Length Mean</th>\n",
       "      <th>Fwd Packet Length Std</th>\n",
       "      <th>...</th>\n",
       "      <th>min_seg_size_forward</th>\n",
       "      <th>Active Mean</th>\n",
       "      <th>Active Std</th>\n",
       "      <th>Active Max</th>\n",
       "      <th>Active Min</th>\n",
       "      <th>Idle Mean</th>\n",
       "      <th>Idle Std</th>\n",
       "      <th>Idle Max</th>\n",
       "      <th>Idle Min</th>\n",
       "      <th>Label</th>\n",
       "    </tr>\n",
       "  </thead>\n",
       "  <tbody>\n",
       "    <tr>\n",
       "      <th>count</th>\n",
       "      <td>566149.000000</td>\n",
       "      <td>5.661490e+05</td>\n",
       "      <td>566149.000000</td>\n",
       "      <td>566149.000000</td>\n",
       "      <td>5.661490e+05</td>\n",
       "      <td>5.661490e+05</td>\n",
       "      <td>566149.000000</td>\n",
       "      <td>566149.000000</td>\n",
       "      <td>566149.000000</td>\n",
       "      <td>566149.000000</td>\n",
       "      <td>...</td>\n",
       "      <td>566149.000000</td>\n",
       "      <td>5.661490e+05</td>\n",
       "      <td>5.661490e+05</td>\n",
       "      <td>5.661490e+05</td>\n",
       "      <td>5.661490e+05</td>\n",
       "      <td>5.661490e+05</td>\n",
       "      <td>5.661490e+05</td>\n",
       "      <td>5.661490e+05</td>\n",
       "      <td>5.661490e+05</td>\n",
       "      <td>566149.000000</td>\n",
       "    </tr>\n",
       "    <tr>\n",
       "      <th>mean</th>\n",
       "      <td>8023.536525</td>\n",
       "      <td>1.475572e+07</td>\n",
       "      <td>7.433398</td>\n",
       "      <td>7.845504</td>\n",
       "      <td>5.480510e+02</td>\n",
       "      <td>1.025244e+04</td>\n",
       "      <td>206.930559</td>\n",
       "      <td>18.798663</td>\n",
       "      <td>58.104949</td>\n",
       "      <td>68.552052</td>\n",
       "      <td>...</td>\n",
       "      <td>26.122669</td>\n",
       "      <td>8.265636e+04</td>\n",
       "      <td>4.124628e+04</td>\n",
       "      <td>1.546799e+05</td>\n",
       "      <td>5.951514e+04</td>\n",
       "      <td>8.290722e+06</td>\n",
       "      <td>4.991163e+05</td>\n",
       "      <td>8.667073e+06</td>\n",
       "      <td>7.897870e+06</td>\n",
       "      <td>1.064391</td>\n",
       "    </tr>\n",
       "    <tr>\n",
       "      <th>std</th>\n",
       "      <td>18237.981102</td>\n",
       "      <td>3.361749e+07</td>\n",
       "      <td>438.398407</td>\n",
       "      <td>583.054409</td>\n",
       "      <td>7.455954e+03</td>\n",
       "      <td>1.277379e+06</td>\n",
       "      <td>711.715142</td>\n",
       "      <td>60.642342</td>\n",
       "      <td>184.868811</td>\n",
       "      <td>277.965989</td>\n",
       "      <td>...</td>\n",
       "      <td>6.579084</td>\n",
       "      <td>7.072071e+05</td>\n",
       "      <td>4.035803e+05</td>\n",
       "      <td>1.069064e+06</td>\n",
       "      <td>6.407873e+05</td>\n",
       "      <td>2.359744e+07</td>\n",
       "      <td>4.572702e+06</td>\n",
       "      <td>2.432631e+07</td>\n",
       "      <td>2.333391e+07</td>\n",
       "      <td>2.576357</td>\n",
       "    </tr>\n",
       "    <tr>\n",
       "      <th>min</th>\n",
       "      <td>0.000000</td>\n",
       "      <td>0.000000e+00</td>\n",
       "      <td>1.000000</td>\n",
       "      <td>0.000000</td>\n",
       "      <td>0.000000e+00</td>\n",
       "      <td>0.000000e+00</td>\n",
       "      <td>0.000000</td>\n",
       "      <td>0.000000</td>\n",
       "      <td>0.000000</td>\n",
       "      <td>0.000000</td>\n",
       "      <td>...</td>\n",
       "      <td>0.000000</td>\n",
       "      <td>0.000000e+00</td>\n",
       "      <td>0.000000e+00</td>\n",
       "      <td>0.000000e+00</td>\n",
       "      <td>0.000000e+00</td>\n",
       "      <td>0.000000e+00</td>\n",
       "      <td>0.000000e+00</td>\n",
       "      <td>0.000000e+00</td>\n",
       "      <td>0.000000e+00</td>\n",
       "      <td>0.000000</td>\n",
       "    </tr>\n",
       "    <tr>\n",
       "      <th>25%</th>\n",
       "      <td>53.000000</td>\n",
       "      <td>1.550000e+02</td>\n",
       "      <td>2.000000</td>\n",
       "      <td>1.000000</td>\n",
       "      <td>1.200000e+01</td>\n",
       "      <td>2.000000e+00</td>\n",
       "      <td>6.000000</td>\n",
       "      <td>0.000000</td>\n",
       "      <td>6.000000</td>\n",
       "      <td>0.000000</td>\n",
       "      <td>...</td>\n",
       "      <td>20.000000</td>\n",
       "      <td>0.000000e+00</td>\n",
       "      <td>0.000000e+00</td>\n",
       "      <td>0.000000e+00</td>\n",
       "      <td>0.000000e+00</td>\n",
       "      <td>0.000000e+00</td>\n",
       "      <td>0.000000e+00</td>\n",
       "      <td>0.000000e+00</td>\n",
       "      <td>0.000000e+00</td>\n",
       "      <td>0.000000</td>\n",
       "    </tr>\n",
       "    <tr>\n",
       "      <th>50%</th>\n",
       "      <td>80.000000</td>\n",
       "      <td>3.131600e+04</td>\n",
       "      <td>2.000000</td>\n",
       "      <td>2.000000</td>\n",
       "      <td>6.200000e+01</td>\n",
       "      <td>1.240000e+02</td>\n",
       "      <td>37.000000</td>\n",
       "      <td>2.000000</td>\n",
       "      <td>34.000000</td>\n",
       "      <td>0.000000</td>\n",
       "      <td>...</td>\n",
       "      <td>24.000000</td>\n",
       "      <td>0.000000e+00</td>\n",
       "      <td>0.000000e+00</td>\n",
       "      <td>0.000000e+00</td>\n",
       "      <td>0.000000e+00</td>\n",
       "      <td>0.000000e+00</td>\n",
       "      <td>0.000000e+00</td>\n",
       "      <td>0.000000e+00</td>\n",
       "      <td>0.000000e+00</td>\n",
       "      <td>0.000000</td>\n",
       "    </tr>\n",
       "    <tr>\n",
       "      <th>75%</th>\n",
       "      <td>443.000000</td>\n",
       "      <td>3.175237e+06</td>\n",
       "      <td>5.000000</td>\n",
       "      <td>4.000000</td>\n",
       "      <td>1.870000e+02</td>\n",
       "      <td>4.800000e+02</td>\n",
       "      <td>81.000000</td>\n",
       "      <td>36.000000</td>\n",
       "      <td>50.000000</td>\n",
       "      <td>26.162951</td>\n",
       "      <td>...</td>\n",
       "      <td>32.000000</td>\n",
       "      <td>0.000000e+00</td>\n",
       "      <td>0.000000e+00</td>\n",
       "      <td>0.000000e+00</td>\n",
       "      <td>0.000000e+00</td>\n",
       "      <td>0.000000e+00</td>\n",
       "      <td>0.000000e+00</td>\n",
       "      <td>0.000000e+00</td>\n",
       "      <td>0.000000e+00</td>\n",
       "      <td>0.000000</td>\n",
       "    </tr>\n",
       "    <tr>\n",
       "      <th>max</th>\n",
       "      <td>65533.000000</td>\n",
       "      <td>1.200000e+08</td>\n",
       "      <td>199057.000000</td>\n",
       "      <td>269619.000000</td>\n",
       "      <td>2.866110e+06</td>\n",
       "      <td>5.840000e+08</td>\n",
       "      <td>24820.000000</td>\n",
       "      <td>1983.000000</td>\n",
       "      <td>4638.923469</td>\n",
       "      <td>7125.596846</td>\n",
       "      <td>...</td>\n",
       "      <td>126.000000</td>\n",
       "      <td>1.070000e+08</td>\n",
       "      <td>6.390000e+07</td>\n",
       "      <td>1.070000e+08</td>\n",
       "      <td>1.070000e+08</td>\n",
       "      <td>1.200000e+08</td>\n",
       "      <td>7.514502e+07</td>\n",
       "      <td>1.200000e+08</td>\n",
       "      <td>1.200000e+08</td>\n",
       "      <td>14.000000</td>\n",
       "    </tr>\n",
       "  </tbody>\n",
       "</table>\n",
       "<p>8 rows × 79 columns</p>\n",
       "</div>"
      ],
      "text/plain": [
       "       Destination Port  Flow Duration  Total Fwd Packets  \\\n",
       "count     566149.000000   5.661490e+05      566149.000000   \n",
       "mean        8023.536525   1.475572e+07           7.433398   \n",
       "std        18237.981102   3.361749e+07         438.398407   \n",
       "min            0.000000   0.000000e+00           1.000000   \n",
       "25%           53.000000   1.550000e+02           2.000000   \n",
       "50%           80.000000   3.131600e+04           2.000000   \n",
       "75%          443.000000   3.175237e+06           5.000000   \n",
       "max        65533.000000   1.200000e+08      199057.000000   \n",
       "\n",
       "       Total Backward Packets  Total Length of Fwd Packets  \\\n",
       "count           566149.000000                 5.661490e+05   \n",
       "mean                 7.845504                 5.480510e+02   \n",
       "std                583.054409                 7.455954e+03   \n",
       "min                  0.000000                 0.000000e+00   \n",
       "25%                  1.000000                 1.200000e+01   \n",
       "50%                  2.000000                 6.200000e+01   \n",
       "75%                  4.000000                 1.870000e+02   \n",
       "max             269619.000000                 2.866110e+06   \n",
       "\n",
       "       Total Length of Bwd Packets  Fwd Packet Length Max  \\\n",
       "count                 5.661490e+05          566149.000000   \n",
       "mean                  1.025244e+04             206.930559   \n",
       "std                   1.277379e+06             711.715142   \n",
       "min                   0.000000e+00               0.000000   \n",
       "25%                   2.000000e+00               6.000000   \n",
       "50%                   1.240000e+02              37.000000   \n",
       "75%                   4.800000e+02              81.000000   \n",
       "max                   5.840000e+08           24820.000000   \n",
       "\n",
       "       Fwd Packet Length Min  Fwd Packet Length Mean  Fwd Packet Length Std  \\\n",
       "count          566149.000000           566149.000000          566149.000000   \n",
       "mean               18.798663               58.104949              68.552052   \n",
       "std                60.642342              184.868811             277.965989   \n",
       "min                 0.000000                0.000000               0.000000   \n",
       "25%                 0.000000                6.000000               0.000000   \n",
       "50%                 2.000000               34.000000               0.000000   \n",
       "75%                36.000000               50.000000              26.162951   \n",
       "max              1983.000000             4638.923469            7125.596846   \n",
       "\n",
       "       ...  min_seg_size_forward   Active Mean    Active Std    Active Max  \\\n",
       "count  ...         566149.000000  5.661490e+05  5.661490e+05  5.661490e+05   \n",
       "mean   ...             26.122669  8.265636e+04  4.124628e+04  1.546799e+05   \n",
       "std    ...              6.579084  7.072071e+05  4.035803e+05  1.069064e+06   \n",
       "min    ...              0.000000  0.000000e+00  0.000000e+00  0.000000e+00   \n",
       "25%    ...             20.000000  0.000000e+00  0.000000e+00  0.000000e+00   \n",
       "50%    ...             24.000000  0.000000e+00  0.000000e+00  0.000000e+00   \n",
       "75%    ...             32.000000  0.000000e+00  0.000000e+00  0.000000e+00   \n",
       "max    ...            126.000000  1.070000e+08  6.390000e+07  1.070000e+08   \n",
       "\n",
       "         Active Min     Idle Mean      Idle Std      Idle Max      Idle Min  \\\n",
       "count  5.661490e+05  5.661490e+05  5.661490e+05  5.661490e+05  5.661490e+05   \n",
       "mean   5.951514e+04  8.290722e+06  4.991163e+05  8.667073e+06  7.897870e+06   \n",
       "std    6.407873e+05  2.359744e+07  4.572702e+06  2.432631e+07  2.333391e+07   \n",
       "min    0.000000e+00  0.000000e+00  0.000000e+00  0.000000e+00  0.000000e+00   \n",
       "25%    0.000000e+00  0.000000e+00  0.000000e+00  0.000000e+00  0.000000e+00   \n",
       "50%    0.000000e+00  0.000000e+00  0.000000e+00  0.000000e+00  0.000000e+00   \n",
       "75%    0.000000e+00  0.000000e+00  0.000000e+00  0.000000e+00  0.000000e+00   \n",
       "max    1.070000e+08  1.200000e+08  7.514502e+07  1.200000e+08  1.200000e+08   \n",
       "\n",
       "               Label  \n",
       "count  566149.000000  \n",
       "mean        1.064391  \n",
       "std         2.576357  \n",
       "min         0.000000  \n",
       "25%         0.000000  \n",
       "50%         0.000000  \n",
       "75%         0.000000  \n",
       "max        14.000000  \n",
       "\n",
       "[8 rows x 79 columns]"
      ]
     },
     "execution_count": 26,
     "metadata": {},
     "output_type": "execute_result"
    }
   ],
   "source": [
    "cicids_df.describe()"
   ]
  },
  {
   "cell_type": "markdown",
   "metadata": {},
   "source": [
    "## Preprocessing Both Datasets"
   ]
  },
  {
   "cell_type": "code",
   "execution_count": 36,
   "metadata": {},
   "outputs": [],
   "source": [
    "from sklearn.model_selection import train_test_split\n",
    "from sklearn.preprocessing import Normalizer, MinMaxScaler\n",
    "\n",
    "def split_normalize_scale(df, train_size):\n",
    "    df_train, df_test = train_test_split(df, train_size=0.7, random_state=1)\n",
    "\n",
    "    data_train = df_train.iloc[:, 0:-2].to_numpy()\n",
    "    data_test = df_test.iloc[:, 0:-2].to_numpy()\n",
    "\n",
    "    norm = Normalizer()\n",
    "    norm.fit(data_train)\n",
    "    data_train = norm.transform(data_train)\n",
    "    data_test = norm.transform(data_test)\n",
    "\n",
    "    scaler = MinMaxScaler()\n",
    "    scaler.fit(data_train)\n",
    "    data_train = scaler.transform(data_train)\n",
    "    data_test = scaler.transform(data_test)\n",
    "\n",
    "    labels_train = df_train.iloc[:, -1].to_numpy()\n",
    "    labels_test = df_test.iloc[:, -1].to_numpy()\n",
    "\n",
    "    print(f\"training data shape: {data_train.shape}\")\n",
    "    print(f\"training labels shape: {labels_train.shape}\")\n",
    "\n",
    "    print(f\"testing data shape: {data_test.shape}\")\n",
    "    print(f\"testing labels shape: {labels_test.shape}\")\n",
    "\n",
    "    return data_train, labels_train, data_test, labels_test"
   ]
  },
  {
   "cell_type": "code",
   "execution_count": 41,
   "metadata": {},
   "outputs": [
    {
     "name": "stdout",
     "output_type": "stream",
     "text": [
      "training data shape: (396304, 77)\n",
      "training labels shape: (396304,)\n",
      "testing data shape: (169845, 77)\n",
      "testing labels shape: (169845,)\n"
     ]
    }
   ],
   "source": [
    "X_train_cicids, y_train_cicids, X_test_cicids, y_test_cicids = split_normalize_scale(cicids_df, train_size=0.7)"
   ]
  },
  {
   "cell_type": "code",
   "execution_count": 37,
   "metadata": {},
   "outputs": [
    {
     "name": "stdout",
     "output_type": "stream",
     "text": [
      "training data shape: (105, 3)\n",
      "training labels shape: (105,)\n",
      "testing data shape: (45, 3)\n",
      "testing labels shape: (45,)\n"
     ]
    }
   ],
   "source": [
    "X_train_iris, y_train_iris, X_test_iris, y_test_iris = split_normalize_scale(iris_df, train_size=0.7)"
   ]
  },
  {
   "cell_type": "markdown",
   "metadata": {},
   "source": [
    "## Plotting Shit"
   ]
  },
  {
   "cell_type": "markdown",
   "metadata": {},
   "source": [
    "## Supervised Learning"
   ]
  },
  {
   "cell_type": "code",
   "execution_count": null,
   "metadata": {},
   "outputs": [],
   "source": [
    "from sklearn.metrics import classification_report, confusion_matrix"
   ]
  },
  {
   "cell_type": "markdown",
   "metadata": {},
   "source": [
    "### Perceptron"
   ]
  },
  {
   "cell_type": "markdown",
   "metadata": {},
   "source": [
    "### Adaline/Normal Regression"
   ]
  },
  {
   "cell_type": "markdown",
   "metadata": {},
   "source": [
    "### Logistic Regression"
   ]
  },
  {
   "cell_type": "code",
   "execution_count": 38,
   "metadata": {},
   "outputs": [],
   "source": [
    "from sklearn.linear_model import LogisticRegression\n",
    "\n",
    "def lr(X_train, y_train, X_test, y_test):\n",
    "    lr = LogisticRegression(random_state=1)\n",
    "    lr.fit(X_train, y_train)\n",
    "    preds = lr.predict(X_test)\n",
    "    print(classification_report(y_test, preds))\n",
    "    print(confusion_matrix(y_test, preds))"
   ]
  },
  {
   "cell_type": "code",
   "execution_count": 42,
   "metadata": {},
   "outputs": [
    {
     "name": "stderr",
     "output_type": "stream",
     "text": [
      "/home/sam/.local/lib/python3.10/site-packages/sklearn/linear_model/_logistic.py:444: ConvergenceWarning: lbfgs failed to converge (status=1):\n",
      "STOP: TOTAL NO. of ITERATIONS REACHED LIMIT.\n",
      "\n",
      "Increase the number of iterations (max_iter) or scale the data as shown in:\n",
      "    https://scikit-learn.org/stable/modules/preprocessing.html\n",
      "Please also refer to the documentation for alternative solver options:\n",
      "    https://scikit-learn.org/stable/modules/linear_model.html#logistic-regression\n",
      "  n_iter_i = _check_optimize_result(\n",
      "/home/sam/.local/lib/python3.10/site-packages/sklearn/metrics/_classification.py:1334: UndefinedMetricWarning: Precision and F-score are ill-defined and being set to 0.0 in labels with no predicted samples. Use `zero_division` parameter to control this behavior.\n",
      "  _warn_prf(average, modifier, msg_start, len(result))\n"
     ]
    },
    {
     "name": "stdout",
     "output_type": "stream",
     "text": [
      "              precision    recall  f1-score   support\n",
      "\n",
      "           0       0.97      0.97      0.97    136225\n",
      "           1       0.00      0.00      0.00       136\n",
      "           2       0.84      0.91      0.87      7715\n",
      "           3       0.89      0.71      0.79       642\n",
      "           4       0.84      0.90      0.87     13824\n",
      "           5       0.00      0.00      0.00       320\n",
      "           6       0.93      0.29      0.44       373\n",
      "           7       0.81      0.77      0.79       465\n",
      "          10       0.86      0.90      0.88      9649\n",
      "          11       0.00      0.00      0.00       352\n",
      "          12       0.00      0.00      0.00       104\n",
      "          13       0.00      0.00      0.00         2\n",
      "          14       0.00      0.00      0.00        38\n",
      "\n",
      "    accuracy                           0.95    169845\n",
      "   macro avg       0.47      0.42      0.43    169845\n",
      "weighted avg       0.94      0.95      0.95    169845\n",
      "\n",
      "[[131989      6    616     53   2068     23      0     60   1410      0\n",
      "       0      0      0]\n",
      " [   136      0      0      0      0      0      0      0      0      0\n",
      "       0      0      0]\n",
      " [   499      0   6993      4    219      0      0      0      0      0\n",
      "       0      0      0]\n",
      " [   162      0      4    458      4      0      2     12      0      0\n",
      "       0      0      0]\n",
      " [   661      0    695      0  12464      0      0      0      4      0\n",
      "       0      0      0]\n",
      " [   305      0      7      0      2      0      6      0      0      0\n",
      "       0      0      0]\n",
      " [   254      0      2      0      0      0    108      8      1      0\n",
      "       0      0      0]\n",
      " [   105      0      0      0      0      0      0    359      1      0\n",
      "       0      0      0]\n",
      " [   956      0      1      0      3      0      0      0   8689      0\n",
      "       0      0      0]\n",
      " [   349      0      0      0      1      0      0      1      1      0\n",
      "       0      0      0]\n",
      " [   103      0      0      0      0      0      0      1      0      0\n",
      "       0      0      0]\n",
      " [     2      0      0      0      0      0      0      0      0      0\n",
      "       0      0      0]\n",
      " [    38      0      0      0      0      0      0      0      0      0\n",
      "       0      0      0]]\n"
     ]
    },
    {
     "name": "stderr",
     "output_type": "stream",
     "text": [
      "/home/sam/.local/lib/python3.10/site-packages/sklearn/metrics/_classification.py:1334: UndefinedMetricWarning: Precision and F-score are ill-defined and being set to 0.0 in labels with no predicted samples. Use `zero_division` parameter to control this behavior.\n",
      "  _warn_prf(average, modifier, msg_start, len(result))\n",
      "/home/sam/.local/lib/python3.10/site-packages/sklearn/metrics/_classification.py:1334: UndefinedMetricWarning: Precision and F-score are ill-defined and being set to 0.0 in labels with no predicted samples. Use `zero_division` parameter to control this behavior.\n",
      "  _warn_prf(average, modifier, msg_start, len(result))\n"
     ]
    }
   ],
   "source": [
    "lr(X_train_cicids, y_train_cicids, X_test_cicids, y_test_cicids)"
   ]
  },
  {
   "cell_type": "code",
   "execution_count": 39,
   "metadata": {},
   "outputs": [
    {
     "name": "stdout",
     "output_type": "stream",
     "text": [
      "              precision    recall  f1-score   support\n",
      "\n",
      "           0       1.00      1.00      1.00        14\n",
      "           1       0.91      0.56      0.69        18\n",
      "           2       0.60      0.92      0.73        13\n",
      "\n",
      "    accuracy                           0.80        45\n",
      "   macro avg       0.84      0.83      0.81        45\n",
      "weighted avg       0.85      0.80      0.80        45\n",
      "\n",
      "[[14  0  0]\n",
      " [ 0 10  8]\n",
      " [ 0  1 12]]\n"
     ]
    }
   ],
   "source": [
    "lr(X_train_iris, y_train_iris, X_test_iris, y_test_iris)"
   ]
  },
  {
   "cell_type": "markdown",
   "metadata": {},
   "source": [
    "### Decision Tree"
   ]
  },
  {
   "cell_type": "markdown",
   "metadata": {},
   "source": [
    "### Naïve Bayes"
   ]
  },
  {
   "cell_type": "markdown",
   "metadata": {},
   "source": [
    "### K-NN"
   ]
  },
  {
   "cell_type": "markdown",
   "metadata": {},
   "source": [
    "### Deep Learning"
   ]
  },
  {
   "cell_type": "markdown",
   "metadata": {},
   "source": [
    "## Unsupervised Learning"
   ]
  },
  {
   "cell_type": "markdown",
   "metadata": {},
   "source": [
    "### K-Means Clustering"
   ]
  },
  {
   "cell_type": "markdown",
   "metadata": {},
   "source": [
    "### Heirarchical Clustering"
   ]
  }
 ],
 "metadata": {
  "kernelspec": {
   "display_name": "Python 3.10.7 64-bit",
   "language": "python",
   "name": "python3"
  },
  "language_info": {
   "codemirror_mode": {
    "name": "ipython",
    "version": 3
   },
   "file_extension": ".py",
   "mimetype": "text/x-python",
   "name": "python",
   "nbconvert_exporter": "python",
   "pygments_lexer": "ipython3",
   "version": "3.10.7"
  },
  "orig_nbformat": 4,
  "vscode": {
   "interpreter": {
    "hash": "e7370f93d1d0cde622a1f8e1c04877d8463912d04d973331ad4851f04de6915a"
   }
  }
 },
 "nbformat": 4,
 "nbformat_minor": 2
}
